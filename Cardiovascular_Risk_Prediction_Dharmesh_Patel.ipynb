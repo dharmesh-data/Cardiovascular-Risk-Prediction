{
  "nbformat": 4,
  "nbformat_minor": 0,
  "metadata": {
    "colab": {
      "name": "Cardiovascular Risk Prediction- Dharmesh Patel.ipynb",
      "provenance": [],
      "mount_file_id": "1fupgv2BQ4eV5mHw6foPQnaNZJwlacYGQ",
      "authorship_tag": "ABX9TyORK/dGuJ1L+7oP3B5fN5DA",
      "include_colab_link": true
    },
    "kernelspec": {
      "name": "python3",
      "display_name": "Python 3"
    },
    "language_info": {
      "name": "python"
    }
  },
  "cells": [
    {
      "cell_type": "markdown",
      "metadata": {
        "id": "view-in-github",
        "colab_type": "text"
      },
      "source": [
        "<a href=\"https://colab.research.google.com/github/dharmesh-data/Cardiovascular-Risk-Prediction/blob/main/Cardiovascular_Risk_Prediction_Dharmesh_Patel.ipynb\" target=\"_parent\"><img src=\"https://colab.research.google.com/assets/colab-badge.svg\" alt=\"Open In Colab\"/></a>"
      ]
    },
    {
      "cell_type": "markdown",
      "metadata": {
        "id": "5ghJNBlEZeQ3"
      },
      "source": [
        "## <b> <u>Problem Statement</u></b>\n",
        "\n",
        "The dataset is from an ongoing cardiovascular study on residents of the town of Framingham, Massachusetts.\n",
        "\n",
        "The classification goal is to predict whether the patient has a 10-year risk of\n",
        "future coronary heart disease (CHD).\n",
        "\n",
        "The dataset provides the patients’ information. It includes\n",
        "over 4,000 records and 15 attributes.\n",
        "**Variables:**\n",
        "\n",
        "Each attribute is a potential risk factor. There are both demographic, behavioral, and medical risk\n",
        "factors."
      ]
    },
    {
      "cell_type": "markdown",
      "metadata": {
        "id": "1P3i6wt0ZUig"
      },
      "source": [
        "# <b> <u>Variable Description</u></b>\n",
        "\n",
        "**Demographic:**\n",
        "*  **Sex**: male or female(\"M\" or \"F\")\n",
        "\n",
        "*  **Age**: Age of the patient;(Continuous - Although the recorded ages have been truncated to\n",
        "whole numbers, the concept of age is continuous)\n",
        "Behavioral\n",
        "* **is_smoking**: whether or not the patient is a current smoker (\"YES\" or \"NO\")\n",
        "* **Cigs Per Day**: the number of cigarettes that the person smoked on average in one day.(can be\n",
        "considered continuous as one can have any number of cigarettes, even half a cigarette.)\n",
        "\n",
        "**Medical( history)**\n",
        "* **BP Meds**: whether or not the patient was on blood pressure medication (Nominal)\n",
        "* **Prevalent Stroke**: whether or not the patient had previously had a stroke (Nominal)\n",
        "* **Prevalent Hyp**: whether or not the patient was hypertensive (Nominal)\n",
        "* **Diabetes**: whether or not the patient had diabetes (Nominal)\n",
        "\n",
        "**Medical(current)**\n",
        "* **Tot Chol**: total cholesterol level (Continuous)\n",
        "* **Sys BP**: systolic blood pressure (Continuous)\n",
        "* **Dia BP**: diastolic blood pressure (Continuous)\n",
        "* **BMI**: Body Mass Index (Continuous)\n",
        "* **Heart Rate**: heart rate (Continuous - In medical research, variables such as heart rate though in fact discrete, yet are considered continuous because of large number of possible values.)\n",
        "* **Glucose**: glucose level (Continuous)\n",
        "\n",
        "**Predict variable (desired target)**\n",
        "* **10-year risk of coronary heart disease CHD**(binary: “1”, means “Yes”, “0” means “No”) -DV"
      ]
    },
    {
      "cell_type": "code",
      "metadata": {
        "id": "_QQ0lqQMZSZ9"
      },
      "source": [
        "import warnings\n",
        "warnings.filterwarnings('ignore')\n",
        "\n",
        "import pandas as pd\n",
        "import numpy as np\n",
        "\n",
        "import matplotlib.pyplot as plt\n",
        "import seaborn as sns\n",
        "from pylab import rcParams\n",
        "rcParams['figure.figsize'] = (10, 6)\n",
        "%matplotlib inline\n",
        "\n",
        "from sklearn.model_selection import train_test_split\n",
        "from sklearn.preprocessing import OneHotEncoder\n",
        "from sklearn.model_selection import GridSearchCV\n",
        "from sklearn.model_selection import RandomizedSearchCV\n",
        "from sklearn.model_selection import train_test_split\n",
        "from sklearn import ensemble"
      ],
      "execution_count": 2,
      "outputs": []
    },
    {
      "cell_type": "code",
      "metadata": {
        "id": "Q0IjvrsubEpz"
      },
      "source": [
        "df= pd.read_csv(\"/content/drive/MyDrive/Colab Notebooks/Capstone/Supervised ML classification/Cardiovascular Risk Prediction/Copy of data_cardiovascular_risk.csv\")"
      ],
      "execution_count": 3,
      "outputs": []
    },
    {
      "cell_type": "code",
      "metadata": {
        "colab": {
          "base_uri": "https://localhost:8080/",
          "height": 202
        },
        "id": "xXKbqU_tbYIx",
        "outputId": "c81a6084-be92-4d0a-d8a4-eee4011015b9"
      },
      "source": [
        "df.head()"
      ],
      "execution_count": 4,
      "outputs": [
        {
          "output_type": "execute_result",
          "data": {
            "text/html": [
              "<div>\n",
              "<style scoped>\n",
              "    .dataframe tbody tr th:only-of-type {\n",
              "        vertical-align: middle;\n",
              "    }\n",
              "\n",
              "    .dataframe tbody tr th {\n",
              "        vertical-align: top;\n",
              "    }\n",
              "\n",
              "    .dataframe thead th {\n",
              "        text-align: right;\n",
              "    }\n",
              "</style>\n",
              "<table border=\"1\" class=\"dataframe\">\n",
              "  <thead>\n",
              "    <tr style=\"text-align: right;\">\n",
              "      <th></th>\n",
              "      <th>id</th>\n",
              "      <th>age</th>\n",
              "      <th>education</th>\n",
              "      <th>sex</th>\n",
              "      <th>is_smoking</th>\n",
              "      <th>cigsPerDay</th>\n",
              "      <th>BPMeds</th>\n",
              "      <th>prevalentStroke</th>\n",
              "      <th>prevalentHyp</th>\n",
              "      <th>diabetes</th>\n",
              "      <th>totChol</th>\n",
              "      <th>sysBP</th>\n",
              "      <th>diaBP</th>\n",
              "      <th>BMI</th>\n",
              "      <th>heartRate</th>\n",
              "      <th>glucose</th>\n",
              "      <th>TenYearCHD</th>\n",
              "    </tr>\n",
              "  </thead>\n",
              "  <tbody>\n",
              "    <tr>\n",
              "      <th>0</th>\n",
              "      <td>0</td>\n",
              "      <td>64</td>\n",
              "      <td>2.0</td>\n",
              "      <td>F</td>\n",
              "      <td>YES</td>\n",
              "      <td>3.0</td>\n",
              "      <td>0.0</td>\n",
              "      <td>0</td>\n",
              "      <td>0</td>\n",
              "      <td>0</td>\n",
              "      <td>221.0</td>\n",
              "      <td>148.0</td>\n",
              "      <td>85.0</td>\n",
              "      <td>NaN</td>\n",
              "      <td>90.0</td>\n",
              "      <td>80.0</td>\n",
              "      <td>1</td>\n",
              "    </tr>\n",
              "    <tr>\n",
              "      <th>1</th>\n",
              "      <td>1</td>\n",
              "      <td>36</td>\n",
              "      <td>4.0</td>\n",
              "      <td>M</td>\n",
              "      <td>NO</td>\n",
              "      <td>0.0</td>\n",
              "      <td>0.0</td>\n",
              "      <td>0</td>\n",
              "      <td>1</td>\n",
              "      <td>0</td>\n",
              "      <td>212.0</td>\n",
              "      <td>168.0</td>\n",
              "      <td>98.0</td>\n",
              "      <td>29.77</td>\n",
              "      <td>72.0</td>\n",
              "      <td>75.0</td>\n",
              "      <td>0</td>\n",
              "    </tr>\n",
              "    <tr>\n",
              "      <th>2</th>\n",
              "      <td>2</td>\n",
              "      <td>46</td>\n",
              "      <td>1.0</td>\n",
              "      <td>F</td>\n",
              "      <td>YES</td>\n",
              "      <td>10.0</td>\n",
              "      <td>0.0</td>\n",
              "      <td>0</td>\n",
              "      <td>0</td>\n",
              "      <td>0</td>\n",
              "      <td>250.0</td>\n",
              "      <td>116.0</td>\n",
              "      <td>71.0</td>\n",
              "      <td>20.35</td>\n",
              "      <td>88.0</td>\n",
              "      <td>94.0</td>\n",
              "      <td>0</td>\n",
              "    </tr>\n",
              "    <tr>\n",
              "      <th>3</th>\n",
              "      <td>3</td>\n",
              "      <td>50</td>\n",
              "      <td>1.0</td>\n",
              "      <td>M</td>\n",
              "      <td>YES</td>\n",
              "      <td>20.0</td>\n",
              "      <td>0.0</td>\n",
              "      <td>0</td>\n",
              "      <td>1</td>\n",
              "      <td>0</td>\n",
              "      <td>233.0</td>\n",
              "      <td>158.0</td>\n",
              "      <td>88.0</td>\n",
              "      <td>28.26</td>\n",
              "      <td>68.0</td>\n",
              "      <td>94.0</td>\n",
              "      <td>1</td>\n",
              "    </tr>\n",
              "    <tr>\n",
              "      <th>4</th>\n",
              "      <td>4</td>\n",
              "      <td>64</td>\n",
              "      <td>1.0</td>\n",
              "      <td>F</td>\n",
              "      <td>YES</td>\n",
              "      <td>30.0</td>\n",
              "      <td>0.0</td>\n",
              "      <td>0</td>\n",
              "      <td>0</td>\n",
              "      <td>0</td>\n",
              "      <td>241.0</td>\n",
              "      <td>136.5</td>\n",
              "      <td>85.0</td>\n",
              "      <td>26.42</td>\n",
              "      <td>70.0</td>\n",
              "      <td>77.0</td>\n",
              "      <td>0</td>\n",
              "    </tr>\n",
              "  </tbody>\n",
              "</table>\n",
              "</div>"
            ],
            "text/plain": [
              "   id  age  education sex  ...    BMI  heartRate  glucose  TenYearCHD\n",
              "0   0   64        2.0   F  ...    NaN       90.0     80.0           1\n",
              "1   1   36        4.0   M  ...  29.77       72.0     75.0           0\n",
              "2   2   46        1.0   F  ...  20.35       88.0     94.0           0\n",
              "3   3   50        1.0   M  ...  28.26       68.0     94.0           1\n",
              "4   4   64        1.0   F  ...  26.42       70.0     77.0           0\n",
              "\n",
              "[5 rows x 17 columns]"
            ]
          },
          "metadata": {
            "tags": []
          },
          "execution_count": 4
        }
      ]
    },
    {
      "cell_type": "code",
      "metadata": {
        "colab": {
          "base_uri": "https://localhost:8080/"
        },
        "id": "hNZoPIerba6k",
        "outputId": "9d2512a1-4300-4401-d416-77c6885f2553"
      },
      "source": [
        "df.info()"
      ],
      "execution_count": 5,
      "outputs": [
        {
          "output_type": "stream",
          "text": [
            "<class 'pandas.core.frame.DataFrame'>\n",
            "RangeIndex: 3390 entries, 0 to 3389\n",
            "Data columns (total 17 columns):\n",
            " #   Column           Non-Null Count  Dtype  \n",
            "---  ------           --------------  -----  \n",
            " 0   id               3390 non-null   int64  \n",
            " 1   age              3390 non-null   int64  \n",
            " 2   education        3303 non-null   float64\n",
            " 3   sex              3390 non-null   object \n",
            " 4   is_smoking       3390 non-null   object \n",
            " 5   cigsPerDay       3368 non-null   float64\n",
            " 6   BPMeds           3346 non-null   float64\n",
            " 7   prevalentStroke  3390 non-null   int64  \n",
            " 8   prevalentHyp     3390 non-null   int64  \n",
            " 9   diabetes         3390 non-null   int64  \n",
            " 10  totChol          3352 non-null   float64\n",
            " 11  sysBP            3390 non-null   float64\n",
            " 12  diaBP            3390 non-null   float64\n",
            " 13  BMI              3376 non-null   float64\n",
            " 14  heartRate        3389 non-null   float64\n",
            " 15  glucose          3086 non-null   float64\n",
            " 16  TenYearCHD       3390 non-null   int64  \n",
            "dtypes: float64(9), int64(6), object(2)\n",
            "memory usage: 450.4+ KB\n"
          ],
          "name": "stdout"
        }
      ]
    },
    {
      "cell_type": "code",
      "metadata": {
        "colab": {
          "base_uri": "https://localhost:8080/"
        },
        "id": "oGixJ2aAdot5",
        "outputId": "5616e44b-ae3f-4402-bc18-5700a770f485"
      },
      "source": [
        "df.isnull().sum()"
      ],
      "execution_count": 6,
      "outputs": [
        {
          "output_type": "execute_result",
          "data": {
            "text/plain": [
              "id                   0\n",
              "age                  0\n",
              "education           87\n",
              "sex                  0\n",
              "is_smoking           0\n",
              "cigsPerDay          22\n",
              "BPMeds              44\n",
              "prevalentStroke      0\n",
              "prevalentHyp         0\n",
              "diabetes             0\n",
              "totChol             38\n",
              "sysBP                0\n",
              "diaBP                0\n",
              "BMI                 14\n",
              "heartRate            1\n",
              "glucose            304\n",
              "TenYearCHD           0\n",
              "dtype: int64"
            ]
          },
          "metadata": {
            "tags": []
          },
          "execution_count": 6
        }
      ]
    },
    {
      "cell_type": "code",
      "metadata": {
        "colab": {
          "base_uri": "https://localhost:8080/",
          "height": 1000
        },
        "id": "TZi0bcnudvh1",
        "outputId": "41f603df-36ea-4cb4-bd81-2d1a8ccf27c8"
      },
      "source": [
        "for  i in ['education', 'cigsPerDay', 'BPMeds', 'totChol', 'BMI', 'heartRate', 'glucose']:\n",
        "  fig, axes = plt.subplots(1,2,figsize=(10,5))\n",
        "  sns.distplot(df[i], ax=axes[0])\n",
        "  sns.boxplot(df[i], ax=axes[1])"
      ],
      "execution_count": 8,
      "outputs": [
        {
          "output_type": "display_data",
          "data": {
            "image/png": "[encoded data removed]",
            "text/plain": [
              "<Figure size 720x360 with 2 Axes>"
            ]
          },
          "metadata": {
            "tags": [],
            "needs_background": "light"
          }
        },
        {
          "output_type": "display_data",
          "data": {
            "image/png": "[encoded data removed]",
            "text/plain": [
              "<Figure size 720x360 with 2 Axes>"
            ]
          },
          "metadata": {
            "tags": [],
            "needs_background": "light"
          }
        },
        {
          "output_type": "display_data",
          "data": {
            "image/png": "[encoded data removed]",
            "text/plain": [
              "<Figure size 720x360 with 2 Axes>"
            ]
          },
          "metadata": {
            "tags": [],
            "needs_background": "light"
          }
        },
        {
          "output_type": "display_data",
          "data": {
            "image/png": "[encoded data removed]",
            "text/plain": [
              "<Figure size 720x360 with 2 Axes>"
            ]
          },
          "metadata": {
            "tags": [],
            "needs_background": "light"
          }
        },
        {
          "output_type": "display_data",
          "data": {
            "image/png": "[encoded data removed]",
            "text/plain": [
              "<Figure size 720x360 with 2 Axes>"
            ]
          },
          "metadata": {
            "tags": [],
            "needs_background": "light"
          }
        },
        {
          "output_type": "display_data",
          "data": {
            "image/png": "[encoded data removed]",
            "text/plain": [
              "<Figure size 720x360 with 2 Axes>"
            ]
          },
          "metadata": {
            "tags": [],
            "needs_background": "light"
          }
        },
        {
          "output_type": "display_data",
          "data": {
            "image/png": "[encoded data removed]",
            "text/plain": [
              "<Figure size 720x360 with 2 Axes>"
            ]
          },
          "metadata": {
            "tags": [],
            "needs_background": "light"
          }
        }
      ]
    },
    {
      "cell_type": "code",
      "metadata": {
        "colab": {
          "base_uri": "https://localhost:8080/",
          "height": 294
        },
        "id": "m0JaU4XBezf6",
        "outputId": "a8e2545c-bdc0-4c76-b1f5-8b897e57d7f0"
      },
      "source": [
        "df.describe()"
      ],
      "execution_count": 13,
      "outputs": [
        {
          "output_type": "execute_result",
          "data": {
            "text/html": [
              "<div>\n",
              "<style scoped>\n",
              "    .dataframe tbody tr th:only-of-type {\n",
              "        vertical-align: middle;\n",
              "    }\n",
              "\n",
              "    .dataframe tbody tr th {\n",
              "        vertical-align: top;\n",
              "    }\n",
              "\n",
              "    .dataframe thead th {\n",
              "        text-align: right;\n",
              "    }\n",
              "</style>\n",
              "<table border=\"1\" class=\"dataframe\">\n",
              "  <thead>\n",
              "    <tr style=\"text-align: right;\">\n",
              "      <th></th>\n",
              "      <th>id</th>\n",
              "      <th>age</th>\n",
              "      <th>education</th>\n",
              "      <th>cigsPerDay</th>\n",
              "      <th>BPMeds</th>\n",
              "      <th>prevalentStroke</th>\n",
              "      <th>prevalentHyp</th>\n",
              "      <th>diabetes</th>\n",
              "      <th>totChol</th>\n",
              "      <th>sysBP</th>\n",
              "      <th>diaBP</th>\n",
              "      <th>BMI</th>\n",
              "      <th>heartRate</th>\n",
              "      <th>glucose</th>\n",
              "      <th>TenYearCHD</th>\n",
              "    </tr>\n",
              "  </thead>\n",
              "  <tbody>\n",
              "    <tr>\n",
              "      <th>count</th>\n",
              "      <td>3390.000000</td>\n",
              "      <td>3390.000000</td>\n",
              "      <td>3303.000000</td>\n",
              "      <td>3368.000000</td>\n",
              "      <td>3346.000000</td>\n",
              "      <td>3390.000000</td>\n",
              "      <td>3390.000000</td>\n",
              "      <td>3390.000000</td>\n",
              "      <td>3352.000000</td>\n",
              "      <td>3390.00000</td>\n",
              "      <td>3390.000000</td>\n",
              "      <td>3376.000000</td>\n",
              "      <td>3389.000000</td>\n",
              "      <td>3086.000000</td>\n",
              "      <td>3390.000000</td>\n",
              "    </tr>\n",
              "    <tr>\n",
              "      <th>mean</th>\n",
              "      <td>1694.500000</td>\n",
              "      <td>49.542183</td>\n",
              "      <td>1.970936</td>\n",
              "      <td>9.069477</td>\n",
              "      <td>0.029886</td>\n",
              "      <td>0.006490</td>\n",
              "      <td>0.315339</td>\n",
              "      <td>0.025664</td>\n",
              "      <td>237.074284</td>\n",
              "      <td>132.60118</td>\n",
              "      <td>82.883038</td>\n",
              "      <td>25.794964</td>\n",
              "      <td>75.977279</td>\n",
              "      <td>82.086520</td>\n",
              "      <td>0.150737</td>\n",
              "    </tr>\n",
              "    <tr>\n",
              "      <th>std</th>\n",
              "      <td>978.753033</td>\n",
              "      <td>8.592878</td>\n",
              "      <td>1.019081</td>\n",
              "      <td>11.879078</td>\n",
              "      <td>0.170299</td>\n",
              "      <td>0.080309</td>\n",
              "      <td>0.464719</td>\n",
              "      <td>0.158153</td>\n",
              "      <td>45.247430</td>\n",
              "      <td>22.29203</td>\n",
              "      <td>12.023581</td>\n",
              "      <td>4.115449</td>\n",
              "      <td>11.971868</td>\n",
              "      <td>24.244753</td>\n",
              "      <td>0.357846</td>\n",
              "    </tr>\n",
              "    <tr>\n",
              "      <th>min</th>\n",
              "      <td>0.000000</td>\n",
              "      <td>32.000000</td>\n",
              "      <td>1.000000</td>\n",
              "      <td>0.000000</td>\n",
              "      <td>0.000000</td>\n",
              "      <td>0.000000</td>\n",
              "      <td>0.000000</td>\n",
              "      <td>0.000000</td>\n",
              "      <td>107.000000</td>\n",
              "      <td>83.50000</td>\n",
              "      <td>48.000000</td>\n",
              "      <td>15.960000</td>\n",
              "      <td>45.000000</td>\n",
              "      <td>40.000000</td>\n",
              "      <td>0.000000</td>\n",
              "    </tr>\n",
              "    <tr>\n",
              "      <th>25%</th>\n",
              "      <td>847.250000</td>\n",
              "      <td>42.000000</td>\n",
              "      <td>1.000000</td>\n",
              "      <td>0.000000</td>\n",
              "      <td>0.000000</td>\n",
              "      <td>0.000000</td>\n",
              "      <td>0.000000</td>\n",
              "      <td>0.000000</td>\n",
              "      <td>206.000000</td>\n",
              "      <td>117.00000</td>\n",
              "      <td>74.500000</td>\n",
              "      <td>23.020000</td>\n",
              "      <td>68.000000</td>\n",
              "      <td>71.000000</td>\n",
              "      <td>0.000000</td>\n",
              "    </tr>\n",
              "    <tr>\n",
              "      <th>50%</th>\n",
              "      <td>1694.500000</td>\n",
              "      <td>49.000000</td>\n",
              "      <td>2.000000</td>\n",
              "      <td>0.000000</td>\n",
              "      <td>0.000000</td>\n",
              "      <td>0.000000</td>\n",
              "      <td>0.000000</td>\n",
              "      <td>0.000000</td>\n",
              "      <td>234.000000</td>\n",
              "      <td>128.50000</td>\n",
              "      <td>82.000000</td>\n",
              "      <td>25.380000</td>\n",
              "      <td>75.000000</td>\n",
              "      <td>78.000000</td>\n",
              "      <td>0.000000</td>\n",
              "    </tr>\n",
              "    <tr>\n",
              "      <th>75%</th>\n",
              "      <td>2541.750000</td>\n",
              "      <td>56.000000</td>\n",
              "      <td>3.000000</td>\n",
              "      <td>20.000000</td>\n",
              "      <td>0.000000</td>\n",
              "      <td>0.000000</td>\n",
              "      <td>1.000000</td>\n",
              "      <td>0.000000</td>\n",
              "      <td>264.000000</td>\n",
              "      <td>144.00000</td>\n",
              "      <td>90.000000</td>\n",
              "      <td>28.040000</td>\n",
              "      <td>83.000000</td>\n",
              "      <td>87.000000</td>\n",
              "      <td>0.000000</td>\n",
              "    </tr>\n",
              "    <tr>\n",
              "      <th>max</th>\n",
              "      <td>3389.000000</td>\n",
              "      <td>70.000000</td>\n",
              "      <td>4.000000</td>\n",
              "      <td>70.000000</td>\n",
              "      <td>1.000000</td>\n",
              "      <td>1.000000</td>\n",
              "      <td>1.000000</td>\n",
              "      <td>1.000000</td>\n",
              "      <td>696.000000</td>\n",
              "      <td>295.00000</td>\n",
              "      <td>142.500000</td>\n",
              "      <td>56.800000</td>\n",
              "      <td>143.000000</td>\n",
              "      <td>394.000000</td>\n",
              "      <td>1.000000</td>\n",
              "    </tr>\n",
              "  </tbody>\n",
              "</table>\n",
              "</div>"
            ],
            "text/plain": [
              "                id          age  ...      glucose   TenYearCHD\n",
              "count  3390.000000  3390.000000  ...  3086.000000  3390.000000\n",
              "mean   1694.500000    49.542183  ...    82.086520     0.150737\n",
              "std     978.753033     8.592878  ...    24.244753     0.357846\n",
              "min       0.000000    32.000000  ...    40.000000     0.000000\n",
              "25%     847.250000    42.000000  ...    71.000000     0.000000\n",
              "50%    1694.500000    49.000000  ...    78.000000     0.000000\n",
              "75%    2541.750000    56.000000  ...    87.000000     0.000000\n",
              "max    3389.000000    70.000000  ...   394.000000     1.000000\n",
              "\n",
              "[8 rows x 15 columns]"
            ]
          },
          "metadata": {
            "tags": []
          },
          "execution_count": 13
        }
      ]
    },
    {
      "cell_type": "code",
      "metadata": {
        "id": "DsHfWGGUfPUf"
      },
      "source": [
        "for  i in ['education', 'totChol', 'BMI', 'heartRate', 'glucose']:\n",
        "  df[i] = df[i].fillna(df[i].median())"
      ],
      "execution_count": 14,
      "outputs": []
    },
    {
      "cell_type": "code",
      "metadata": {
        "id": "dL-hPZ9XfWCZ"
      },
      "source": [
        "df['cigsPerDay'] = df['cigsPerDay'].fillna(10)\n",
        "df['BPMeds'] = df['BPMeds'].fillna(0)"
      ],
      "execution_count": 15,
      "outputs": []
    },
    {
      "cell_type": "code",
      "metadata": {
        "id": "ItwaL9TsfV_a"
      },
      "source": [
        ""
      ],
      "execution_count": null,
      "outputs": []
    },
    {
      "cell_type": "code",
      "metadata": {
        "id": "oVyeLxPtfV8W"
      },
      "source": [
        ""
      ],
      "execution_count": null,
      "outputs": []
    },
    {
      "cell_type": "code",
      "metadata": {
        "id": "pS1RIW7qfV5i"
      },
      "source": [
        ""
      ],
      "execution_count": null,
      "outputs": []
    },
    {
      "cell_type": "code",
      "metadata": {
        "id": "OZui75l4fV17"
      },
      "source": [
        ""
      ],
      "execution_count": null,
      "outputs": []
    },
    {
      "cell_type": "code",
      "metadata": {
        "id": "Rj6hcmMGfVzL"
      },
      "source": [
        ""
      ],
      "execution_count": null,
      "outputs": []
    },
    {
      "cell_type": "code",
      "metadata": {
        "id": "3CYA9rEEfVwI"
      },
      "source": [
        ""
      ],
      "execution_count": null,
      "outputs": []
    },
    {
      "cell_type": "code",
      "metadata": {
        "id": "QlHU7HGyfVtD"
      },
      "source": [
        ""
      ],
      "execution_count": null,
      "outputs": []
    },
    {
      "cell_type": "code",
      "metadata": {
        "id": "Pk5cJd1ofVpj"
      },
      "source": [
        ""
      ],
      "execution_count": null,
      "outputs": []
    },
    {
      "cell_type": "code",
      "metadata": {
        "id": "c3pCIXxzfVly"
      },
      "source": [
        ""
      ],
      "execution_count": null,
      "outputs": []
    },
    {
      "cell_type": "code",
      "metadata": {
        "id": "UKtING-vfVgl"
      },
      "source": [
        ""
      ],
      "execution_count": null,
      "outputs": []
    },
    {
      "cell_type": "code",
      "metadata": {
        "id": "ty15yAHCfVb1"
      },
      "source": [
        ""
      ],
      "execution_count": null,
      "outputs": []
    },
    {
      "cell_type": "code",
      "metadata": {
        "id": "XBaazgdBfVWR"
      },
      "source": [
        ""
      ],
      "execution_count": null,
      "outputs": []
    },
    {
      "cell_type": "code",
      "metadata": {
        "id": "btXRR3v1fVRC"
      },
      "source": [
        ""
      ],
      "execution_count": null,
      "outputs": []
    },
    {
      "cell_type": "code",
      "metadata": {
        "id": "T6x2Bmx-fVMd"
      },
      "source": [
        ""
      ],
      "execution_count": null,
      "outputs": []
    },
    {
      "cell_type": "code",
      "metadata": {
        "id": "oj1gUFAPfVJB"
      },
      "source": [
        ""
      ],
      "execution_count": null,
      "outputs": []
    },
    {
      "cell_type": "code",
      "metadata": {
        "id": "hKMlK2KpfVE6"
      },
      "source": [
        ""
      ],
      "execution_count": null,
      "outputs": []
    },
    {
      "cell_type": "code",
      "metadata": {
        "id": "ySgTLDKZfVBS"
      },
      "source": [
        ""
      ],
      "execution_count": null,
      "outputs": []
    },
    {
      "cell_type": "code",
      "metadata": {
        "id": "FplafBxAfU7Z"
      },
      "source": [
        ""
      ],
      "execution_count": null,
      "outputs": []
    }
  ]
}